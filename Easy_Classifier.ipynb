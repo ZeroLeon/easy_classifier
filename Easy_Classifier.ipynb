{
  "nbformat": 4,
  "nbformat_minor": 0,
  "metadata": {
    "colab": {
      "name": "Easy_Classifier.ipynb",
      "version": "0.3.2",
      "provenance": [],
      "include_colab_link": true
    },
    "kernelspec": {
      "name": "python3",
      "display_name": "Python 3"
    },
    "accelerator": "GPU"
  },
  "cells": [
    {
      "cell_type": "markdown",
      "metadata": {
        "id": "view-in-github",
        "colab_type": "text"
      },
      "source": [
        "<a href=\"https://colab.research.google.com/github/ZeroLeon/easy_classifier/blob/master/Easy_Classifier.ipynb\" target=\"_parent\"><img src=\"https://colab.research.google.com/assets/colab-badge.svg\" alt=\"Open In Colab\"/></a>"
      ]
    },
    {
      "cell_type": "markdown",
      "metadata": {
        "id": "jJECBJVLY0p4",
        "colab_type": "text"
      },
      "source": [
        "# Easy Classifier"
      ]
    },
    {
      "cell_type": "markdown",
      "metadata": {
        "id": "_GG8BD0jY4pX",
        "colab_type": "text"
      },
      "source": [
        "## Setup Working Directory(Ignore this step if not using colab)"
      ]
    },
    {
      "cell_type": "code",
      "metadata": {
        "id": "9MCulunSeOQ2",
        "colab_type": "code",
        "colab": {
          "base_uri": "https://localhost:8080/",
          "height": 125
        },
        "outputId": "0dd6f35b-afc3-45f2-ada0-5c305fa90288"
      },
      "source": [
        "import os \n",
        "from pathlib import Path\n",
        "from google.colab import drive\n",
        "drive.mount('/content/gdrive',force_remount = True)\n",
        "base_dir = '/content/gdrive/My Drive/fastai'\n",
        "path = Path(base_dir +'/easy_classifier')\n",
        "path.mkdir(parents=True,exist_ok=True)\n",
        "os.chdir(path)"
      ],
      "execution_count": 3,
      "outputs": [
        {
          "output_type": "stream",
          "text": [
            "Go to this URL in a browser: https://accounts.google.com/o/oauth2/auth?client_id=947318989803-6bn6qk8qdgf4n4g3pfee6491hc0brc4i.apps.googleusercontent.com&redirect_uri=urn%3Aietf%3Awg%3Aoauth%3A2.0%3Aoob&scope=email%20https%3A%2F%2Fwww.googleapis.com%2Fauth%2Fdocs.test%20https%3A%2F%2Fwww.googleapis.com%2Fauth%2Fdrive%20https%3A%2F%2Fwww.googleapis.com%2Fauth%2Fdrive.photos.readonly%20https%3A%2F%2Fwww.googleapis.com%2Fauth%2Fpeopleapi.readonly&response_type=code\n",
            "\n",
            "Enter your authorization code:\n",
            "··········\n",
            "Mounted at /content/gdrive\n"
          ],
          "name": "stdout"
        }
      ]
    },
    {
      "cell_type": "code",
      "metadata": {
        "id": "OtKA2G9gjuX9",
        "colab_type": "code",
        "colab": {
          "base_uri": "https://localhost:8080/",
          "height": 34
        },
        "outputId": "04ccb4c7-e18e-4bca-8204-9e86f21a2122"
      },
      "source": [
        "%reload_ext autoreload\n",
        "%autoreload 2\n",
        "%matplotlib inline\n",
        "import torch\n",
        "device_available = torch.cuda.is_available()\n",
        "if not device_available:\n",
        "  raise SystemError('GPU device not found')\n",
        "print('GPU is on')"
      ],
      "execution_count": 4,
      "outputs": [
        {
          "output_type": "stream",
          "text": [
            "GPU is on\n"
          ],
          "name": "stdout"
        }
      ]
    },
    {
      "cell_type": "markdown",
      "metadata": {
        "id": "JAl8nKt0kQ7o",
        "colab_type": "text"
      },
      "source": [
        "## Setup Config"
      ]
    },
    {
      "cell_type": "code",
      "metadata": {
        "id": "z-iyj3kscl9s",
        "colab_type": "code",
        "colab": {}
      },
      "source": [
        "%%capture\n",
        "!pip install -r requirements.txt"
      ],
      "execution_count": 0,
      "outputs": []
    },
    {
      "cell_type": "code",
      "metadata": {
        "id": "U4sUon9Aceky",
        "colab_type": "code",
        "colab": {}
      },
      "source": [
        "import numpy as np\n",
        "import pandas as pd\n",
        "import torch\n",
        "from fastai import *\n",
        "from fastai.vision import *\n",
        "from fastai.text import *\n",
        "from fastai.callbacks import *\n",
        "from pathlib import Path\n",
        "\n",
        "import utils,helper"
      ],
      "execution_count": 0,
      "outputs": []
    },
    {
      "cell_type": "code",
      "metadata": {
        "id": "LGAXcnpAZCG6",
        "colab_type": "code",
        "colab": {}
      },
      "source": [
        "#Path of data files\n",
        "\n",
        "path = os.getcwd()\n",
        "path_data = Path(path)/'example_data'\n",
        "\n",
        "#Setup config\n",
        "config = utils.Config(\n",
        "    testing=False,\n",
        "    bert_model_name='bert-base-chinese', \n",
        "    max_lr=2e-5,\n",
        "    epochs=1,\n",
        "    bs=8, #Bantch Size\n",
        "    text_cols  = ['review'],\n",
        "    label_cols = ['sentiment'],\n",
        "    max_seq_len=256, # Max value is 512\n",
        "    num_labels = 2,  # 0:negative, 1:positive on default\n",
        "    train_file = 'duoduo_train.csv',\n",
        "    test_file = 'duoduo_test.csv' #None when no test data given\n",
        ")"
      ],
      "execution_count": 0,
      "outputs": []
    },
    {
      "cell_type": "markdown",
      "metadata": {
        "id": "ywEJhvilYYbO",
        "colab_type": "text"
      },
      "source": [
        "## Run sripts"
      ]
    },
    {
      "cell_type": "code",
      "metadata": {
        "id": "S1occgS1e1Iy",
        "colab_type": "code",
        "colab": {}
      },
      "source": [
        "helper.seed_everything()"
      ],
      "execution_count": 0,
      "outputs": []
    },
    {
      "cell_type": "code",
      "metadata": {
        "id": "D1TtKi9gc1Et",
        "colab_type": "code",
        "colab": {}
      },
      "source": [
        "df_train,df_test = helper.get_data(path_data,config.train_file, config.test_file)"
      ],
      "execution_count": 0,
      "outputs": []
    },
    {
      "cell_type": "code",
      "metadata": {
        "id": "kzyjlhpMt7Yn",
        "colab_type": "code",
        "colab": {
          "base_uri": "https://localhost:8080/",
          "height": 72
        },
        "outputId": "6bd87790-6150-4525-a5c1-dd95819654ae"
      },
      "source": [
        "learner = utils.get_learner(df_train,df_test,config)"
      ],
      "execution_count": 32,
      "outputs": [
        {
          "output_type": "stream",
          "text": [
            "Downloading: \"https://github.com/huggingface/pytorch-pretrained-BERT/archive/master.zip\" to /root/.cache/torch/hub/master.zip\n",
            "100%|██████████| 382072689/382072689 [00:15<00:00, 24677344.86B/s]\n"
          ],
          "name": "stderr"
        }
      ]
    },
    {
      "cell_type": "markdown",
      "metadata": {
        "id": "8AqPT8IrYfCs",
        "colab_type": "text"
      },
      "source": [
        "## Finetune Model"
      ]
    },
    {
      "cell_type": "code",
      "metadata": {
        "id": "Tt-Mzjywk4xv",
        "colab_type": "code",
        "colab": {
          "base_uri": "https://localhost:8080/",
          "height": 77
        },
        "outputId": "19f12d55-d31a-4cd3-b71e-f1faa88a8f0b"
      },
      "source": [
        "learner.fit_one_cycle(config.epochs, max_lr=config.max_lr)"
      ],
      "execution_count": 33,
      "outputs": [
        {
          "output_type": "display_data",
          "data": {
            "text/html": [
              "<table border=\"1\" class=\"dataframe\">\n",
              "  <thead>\n",
              "    <tr style=\"text-align: left;\">\n",
              "      <th>epoch</th>\n",
              "      <th>train_loss</th>\n",
              "      <th>valid_loss</th>\n",
              "      <th>accuracy</th>\n",
              "      <th>time</th>\n",
              "    </tr>\n",
              "  </thead>\n",
              "  <tbody>\n",
              "    <tr>\n",
              "      <td>0</td>\n",
              "      <td>0.167206</td>\n",
              "      <td>0.152333</td>\n",
              "      <td>0.933127</td>\n",
              "      <td>04:20</td>\n",
              "    </tr>\n",
              "  </tbody>\n",
              "</table>"
            ],
            "text/plain": [
              "<IPython.core.display.HTML object>"
            ]
          },
          "metadata": {
            "tags": []
          }
        }
      ]
    },
    {
      "cell_type": "code",
      "metadata": {
        "id": "HHn5kQV-Sp3-",
        "colab_type": "code",
        "colab": {
          "base_uri": "https://localhost:8080/",
          "height": 106
        },
        "outputId": "25289524-0301-4601-918b-da15540d2564"
      },
      "source": [
        "learner.fit_one_cycle(2, max_lr=config.max_lr)"
      ],
      "execution_count": 36,
      "outputs": [
        {
          "output_type": "display_data",
          "data": {
            "text/html": [
              "<table border=\"1\" class=\"dataframe\">\n",
              "  <thead>\n",
              "    <tr style=\"text-align: left;\">\n",
              "      <th>epoch</th>\n",
              "      <th>train_loss</th>\n",
              "      <th>valid_loss</th>\n",
              "      <th>accuracy</th>\n",
              "      <th>time</th>\n",
              "    </tr>\n",
              "  </thead>\n",
              "  <tbody>\n",
              "    <tr>\n",
              "      <td>0</td>\n",
              "      <td>0.148118</td>\n",
              "      <td>0.157563</td>\n",
              "      <td>0.928793</td>\n",
              "      <td>03:53</td>\n",
              "    </tr>\n",
              "    <tr>\n",
              "      <td>1</td>\n",
              "      <td>0.106192</td>\n",
              "      <td>0.140526</td>\n",
              "      <td>0.940557</td>\n",
              "      <td>04:05</td>\n",
              "    </tr>\n",
              "  </tbody>\n",
              "</table>"
            ],
            "text/plain": [
              "<IPython.core.display.HTML object>"
            ]
          },
          "metadata": {
            "tags": []
          }
        }
      ]
    },
    {
      "cell_type": "markdown",
      "metadata": {
        "id": "OXDXpdChYl8i",
        "colab_type": "text"
      },
      "source": [
        "## Evaluate Results"
      ]
    },
    {
      "cell_type": "code",
      "metadata": {
        "id": "UWNrhEFpxjgV",
        "colab_type": "code",
        "colab": {}
      },
      "source": [
        "true_labels = helper.get_true_labels(df_test,config.label_cols)"
      ],
      "execution_count": 0,
      "outputs": []
    },
    {
      "cell_type": "code",
      "metadata": {
        "id": "ujxPovgOyfp2",
        "colab_type": "code",
        "colab": {
          "base_uri": "https://localhost:8080/",
          "height": 34
        },
        "outputId": "3e278153-be94-4bcb-a558-be90b47ad405"
      },
      "source": [
        "helper.print_test_metrics(true_labels,learner)"
      ],
      "execution_count": 37,
      "outputs": [
        {
          "output_type": "stream",
          "text": [
            "The accuracy is 93.68%, the f1_score is 95.62%\n"
          ],
          "name": "stdout"
        }
      ]
    },
    {
      "cell_type": "markdown",
      "metadata": {
        "id": "IPy0p0INolPS",
        "colab_type": "text"
      },
      "source": [
        "## Interpretation"
      ]
    },
    {
      "cell_type": "code",
      "metadata": {
        "id": "PZRRYUpdpDJQ",
        "colab_type": "code",
        "colab": {}
      },
      "source": [
        "intepret = TextClassificationInterpretation.from_learner(learner)"
      ],
      "execution_count": 0,
      "outputs": []
    },
    {
      "cell_type": "code",
      "metadata": {
        "id": "r8CYSFKFGInR",
        "colab_type": "code",
        "outputId": "dbc31cd5-ec92-43a3-a7fb-dfd054d63426",
        "colab": {
          "base_uri": "https://localhost:8080/",
          "height": 311
        }
      },
      "source": [
        "intepret.plot_confusion_matrix()"
      ],
      "execution_count": 39,
      "outputs": [
        {
          "output_type": "display_data",
          "data": {
            "image/png": "[encoded data removed]",
            "text/plain": [
              "<Figure size 432x288 with 1 Axes>"
            ]
          },
          "metadata": {
            "tags": []
          }
        }
      ]
    },
    {
      "cell_type": "code",
      "metadata": {
        "id": "gzr7TjzvGq3h",
        "colab_type": "code",
        "outputId": "97ca8da2-35ad-4e2f-e15f-959b87b4ae89",
        "colab": {
          "base_uri": "https://localhost:8080/",
          "height": 220
        }
      },
      "source": [
        "intepret.show_top_losses(3)"
      ],
      "execution_count": 40,
      "outputs": [
        {
          "output_type": "display_data",
          "data": {
            "text/html": [
              "<table border=\"1\" class=\"dataframe\">\n",
              "  <thead>\n",
              "    <tr style=\"text-align: right;\">\n",
              "      <th>Text</th>\n",
              "      <th>Prediction</th>\n",
              "      <th>Actual</th>\n",
              "      <th>Loss</th>\n",
              "      <th>Probability</th>\n",
              "    </tr>\n",
              "  </thead>\n",
              "  <tbody>\n",
              "    <tr>\n",
              "      <td>[CLS] 能 不 能 对 用 户 负 责 ？ ， iphone6 两 分 钟 一 闪 退 整 个 手 机 烫 死 了 [UNK] [UNK] [SEP]</td>\n",
              "      <td>1</td>\n",
              "      <td>0</td>\n",
              "      <td>5.35</td>\n",
              "      <td>0.00</td>\n",
              "    </tr>\n",
              "    <tr>\n",
              "      <td>[CLS] 真 的 垃 圾 ， 更 新 完 还 更 新 ？ 你 们 版 本 控 制 的 是 脑 残 吗 ？ app 内 部 版 本 号 就 没 变 然 后 后 台 推 线 上 ， 一 直 强 更 真 的 服 了 ， 直 接 卸 载 。 [SEP]</td>\n",
              "      <td>0</td>\n",
              "      <td>0</td>\n",
              "      <td>4.85</td>\n",
              "      <td>0.99</td>\n",
              "    </tr>\n",
              "    <tr>\n",
              "      <td>[CLS] 每 天 都 想 要 玩 几 局 策 略 很 好 玩 特 别 喜 欢 的 这 个 赤 潮 自 走 棋 很 不 错 的 赤 潮 自 走 棋 ！ 非 常 痴 迷 ， 组 队 建 议 弄 成 八 人 坑 吧 。 我 们 很 多 人 在 一 起 聚 会 玩 游 戏 大 家 都 玩 赤</td>\n",
              "      <td>0</td>\n",
              "      <td>1</td>\n",
              "      <td>4.85</td>\n",
              "      <td>0.01</td>\n",
              "    </tr>\n",
              "  </tbody>\n",
              "</table>"
            ],
            "text/plain": [
              "<IPython.core.display.HTML object>"
            ]
          },
          "metadata": {
            "tags": []
          }
        }
      ]
    },
    {
      "cell_type": "code",
      "metadata": {
        "id": "BeWDTlYJ1KAJ",
        "colab_type": "code",
        "colab": {
          "base_uri": "https://localhost:8080/",
          "height": 34
        },
        "outputId": "06e74330-3b47-4ae7-f87f-7c5036d5a861"
      },
      "source": [
        "learner.predict('刀塔霸业好玩的地方在于可以操作的空间太大了，缺点在于现在后期大家都阵容大同小异。但是刀塔霸业的前25个回合，是所有自走棋里面最好玩的。')"
      ],
      "execution_count": 42,
      "outputs": [
        {
          "output_type": "execute_result",
          "data": {
            "text/plain": [
              "(Category 1, tensor(1), tensor([0.0018, 0.9982]))"
            ]
          },
          "metadata": {
            "tags": []
          },
          "execution_count": 42
        }
      ]
    },
    {
      "cell_type": "code",
      "metadata": {
        "id": "xy6QG4EKW4SS",
        "colab_type": "code",
        "colab": {}
      },
      "source": [
        ""
      ],
      "execution_count": 0,
      "outputs": []
    }
  ]
}